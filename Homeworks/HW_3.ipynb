{
 "cells": [
  {
   "cell_type": "code",
   "execution_count": 63,
   "metadata": {},
   "outputs": [
    {
     "name": "stdout",
     "output_type": "stream",
     "text": [
      "Sınıf Mevcudunu Girin: 4\n",
      "Öğrenci ismi girin: bu orta\n",
      "Vize Notu: 43\n",
      "Proje Notu: 55\n",
      "Final Notu: 33\n",
      "Öğrenci ismi girin: bu perf\n",
      "Vize Notu: 55\n",
      "Proje Notu: 99\n",
      "Final Notu: 99\n",
      "Öğrenci ismi girin: ezo\n",
      "Vize Notu: 1\n",
      "Proje Notu: 2\n",
      "Final Notu: 3\n",
      "Öğrenci ismi girin: denemeli bira\n",
      "Vize Notu: 67\n",
      "Proje Notu: 67\n",
      "Final Notu: 67\n"
     ]
    }
   ],
   "source": [
    "def notgiris(): #Öğrenci ekleme fonksiyonu. İsim ve not bilgileri burada hesaplanır.\n",
    "\n",
    "    g=[\"Vize\",\"Proje\",\"Final\"]\n",
    "    note=list()\n",
    "    note.append(input(\"Öğrenci ismi girin: \"))\n",
    "\n",
    "    for i in range(len(g)):\n",
    "        note.append(int(input( g[i] +\" Notu: \")))\n",
    "        while note[i+1] <0 or note[i+1]>100:\n",
    "            note[i+1]=int(input( g[i] +\" Notunu hatalı girdiniz. Tekrar deneyin:\"))\n",
    "\n",
    "    note.append(float(format(0.3*note[1]+0.3*note[2]+0.4*note[3],\".2f\")))\n",
    "    return note\n",
    "\n",
    "sinif= {} #Boş sözlük tanımlanır.\n",
    "\n",
    "s=int(input(\"Sınıf Mevcudunu Girin: \")) #İstenilen değer: 5\n",
    "\n",
    "for i in range(s): #Sırayla öğrenci notlarının girilmesi\n",
    "    sinif[i+1]=notgiris()\n",
    "    \n",
    "for i in range(s): #Bubble-Sort algoritması ile index sıralama \n",
    "    for j in range(0,s-1):\n",
    "        if sinif[j+1][3] < sinif[j+2][3] :\n",
    "            sinif[j+1],sinif[j+2]=sinif[j+2],sinif[j+1]\n",
    "        else:\n",
    "            continue\n",
    "\n"
   ]
  },
  {
   "cell_type": "code",
   "execution_count": 64,
   "metadata": {},
   "outputs": [
    {
     "data": {
      "text/plain": [
       "{1: ['bu perf', 55, 99, 99, 85.8],\n",
       " 2: ['denemeli bira', 67, 67, 67, 67.0],\n",
       " 3: ['bu orta', 43, 55, 33, 42.6],\n",
       " 4: ['ezo', 1, 2, 3, 2.1]}"
      ]
     },
     "execution_count": 64,
     "metadata": {},
     "output_type": "execute_result"
    }
   ],
   "source": [
    "sinif"
   ]
  },
  {
   "cell_type": "code",
   "execution_count": 65,
   "metadata": {},
   "outputs": [
    {
     "name": "stdout",
     "output_type": "stream",
     "text": [
      "sıraio {1: ['bu perf', 55, 99, 99, 85.8], 2: ['denemeli bira', 67, 67, 67, 67.0], 3: ['bu orta', 43, 55, 33, 42.6], 4: ['ezo', 1, 2, 3, 2.1]}\n"
     ]
    }
   ],
   "source": [
    "print(\"sıraio\",sinif)"
   ]
  },
  {
   "cell_type": "code",
   "execution_count": null,
   "metadata": {},
   "outputs": [],
   "source": []
  }
 ],
 "metadata": {
  "kernelspec": {
   "display_name": "Python 3",
   "language": "python",
   "name": "python3"
  },
  "language_info": {
   "codemirror_mode": {
    "name": "ipython",
    "version": 3
   },
   "file_extension": ".py",
   "mimetype": "text/x-python",
   "name": "python",
   "nbconvert_exporter": "python",
   "pygments_lexer": "ipython3",
   "version": "3.8.3"
  }
 },
 "nbformat": 4,
 "nbformat_minor": 4
}
