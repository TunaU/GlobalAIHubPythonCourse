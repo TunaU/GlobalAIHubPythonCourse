{
 "cells": [
  {
   "cell_type": "code",
   "execution_count": null,
   "metadata": {},
   "outputs": [],
   "source": [
    "database={\"Tuna1\":\"pass1234\",\"Efe\":\"aBc333\",\"Emir\":\"Sifre11\"} #Sisteme kayıtlı kullanıcı adları ve şifreler\n",
    "loop=True "
   ]
  },
  {
   "cell_type": "code",
   "execution_count": null,
   "metadata": {},
   "outputs": [],
   "source": [
    "while loop:\n",
    "    \n",
    "    a=input(\"Kullanıcı Adınızı Girin: \")\n",
    "    b=input(\"Sifrenizi Girin: \")\n",
    "\n",
    "    for uid,pw in database.items(): #Kullanıcı girişi kontrolü\n",
    "        if  a==uid and b==pw:\n",
    "                print(\"Başarılı Giriş!!\")\n",
    "                loop=False\n",
    "    if loop==True:\n",
    "        print(\"Başarısız Giriş. Tekrar Deneyin.\")\n",
    "                \n",
    "                "
   ]
  }
 ],
 "metadata": {
  "kernelspec": {
   "display_name": "Python 3",
   "language": "python",
   "name": "python3"
  },
  "language_info": {
   "codemirror_mode": {
    "name": "ipython",
    "version": 3
   },
   "file_extension": ".py",
   "mimetype": "text/x-python",
   "name": "python",
   "nbconvert_exporter": "python",
   "pygments_lexer": "ipython3",
   "version": "3.8.3"
  }
 },
 "nbformat": 4,
 "nbformat_minor": 4
}
