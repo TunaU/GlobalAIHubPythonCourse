{
 "cells": [
  {
   "cell_type": "code",
   "execution_count": 18,
   "metadata": {},
   "outputs": [],
   "source": [
    "database={\"Tuna1\":\"pass1234\",\"Efe\":\"aBc333\",\"Emir\":\"Sifre11\"} #Sisteme kayıtlı kullanıcı adları ve şifreler\n",
    "loop=True\n",
    "        \n",
    "    "
   ]
  },
  {
   "cell_type": "code",
   "execution_count": 17,
   "metadata": {},
   "outputs": [
    {
     "name": "stdout",
     "output_type": "stream",
     "text": [
      "Kullanıcı Adınızı Girin: Tuna\n",
      "Sifrenizi Girin: 333\n",
      "Başarısız Giriş. Tekrar Deneyin.\n",
      "Kullanıcı Adınızı Girin: deneme\n",
      "Sifrenizi Girin: asad\n",
      "Başarısız Giriş. Tekrar Deneyin.\n",
      "Kullanıcı Adınızı Girin: Tuna1\n",
      "Sifrenizi Girin: aBc333\n",
      "Başarısız Giriş. Tekrar Deneyin.\n",
      "Kullanıcı Adınızı Girin: Tuna1\n",
      "Sifrenizi Girin: pass1234\n",
      "Tebriks\n"
     ]
    }
   ],
   "source": [
    "while loop:\n",
    "    \n",
    "    a=input(\"Kullanıcı Adınızı Girin: \")\n",
    "    b=input(\"Sifrenizi Girin: \")\n",
    "\n",
    "    for uid,pw in database.items():\n",
    "        if  a==uid and b==pw:\n",
    "                print(\"Başarılı Giriş!!\")\n",
    "                loop=False\n",
    "    if loop==True:\n",
    "        print(\"Başarısız Giriş. Tekrar Deneyin.\")\n",
    "                \n",
    "                "
   ]
  },
  {
   "cell_type": "code",
   "execution_count": 27,
   "metadata": {},
   "outputs": [
    {
     "name": "stdout",
     "output_type": "stream",
     "text": [
      "deee4  7\n"
     ]
    }
   ],
   "source": [
    "x,y=input(\"deee\").split()"
   ]
  },
  {
   "cell_type": "code",
   "execution_count": 28,
   "metadata": {},
   "outputs": [
    {
     "data": {
      "text/plain": [
       "'4'"
      ]
     },
     "execution_count": 28,
     "metadata": {},
     "output_type": "execute_result"
    }
   ],
   "source": [
    "x"
   ]
  },
  {
   "cell_type": "code",
   "execution_count": 29,
   "metadata": {},
   "outputs": [
    {
     "data": {
      "text/plain": [
       "7"
      ]
     },
     "execution_count": 29,
     "metadata": {},
     "output_type": "execute_result"
    }
   ],
   "source": [
    "7"
   ]
  },
  {
   "cell_type": "code",
   "execution_count": 30,
   "metadata": {},
   "outputs": [
    {
     "data": {
      "text/plain": [
       "'7'"
      ]
     },
     "execution_count": 30,
     "metadata": {},
     "output_type": "execute_result"
    }
   ],
   "source": [
    "y"
   ]
  },
  {
   "cell_type": "code",
   "execution_count": null,
   "metadata": {},
   "outputs": [],
   "source": []
  }
 ],
 "metadata": {
  "kernelspec": {
   "display_name": "Python 3",
   "language": "python",
   "name": "python3"
  },
  "language_info": {
   "codemirror_mode": {
    "name": "ipython",
    "version": 3
   },
   "file_extension": ".py",
   "mimetype": "text/x-python",
   "name": "python",
   "nbconvert_exporter": "python",
   "pygments_lexer": "ipython3",
   "version": "3.8.3"
  }
 },
 "nbformat": 4,
 "nbformat_minor": 4
}
