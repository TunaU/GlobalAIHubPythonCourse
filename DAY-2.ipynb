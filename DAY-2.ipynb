{
 "cells": [
  {
   "cell_type": "markdown",
   "metadata": {},
   "source": [
    "DAY-2 HW\n",
    "\n",
    "Soru-1:\n",
    "\n",
    "Kod içine tanımlanmış liste içinde listenin ilk yarısı ile 2. yarısı arasında swap işlemi gerçekleştiriliyor. 2 durum olabilir:\n",
    "\n",
    "1- Listedeki toplam eleman sayısının çift sayı olması.\n",
    "2- Listedeki toplam eleman sayısının tek olması.\n",
    "\n",
    "Eğer listedeki eleman sayısı tek ise, listenin 2. yarısını 1 eleman fazla olarak ele alarak swap işlemi yapılıyor."
   ]
  },
  {
   "cell_type": "code",
   "execution_count": null,
   "metadata": {},
   "outputs": [],
   "source": [
    "#x=list(range(5,60,5))  #Tek sayıda elemana sahip liste\n",
    "x=list(range(5,55,5)) #Çift sayıda elemana sahip liste\n",
    "\n",
    "print(\"Tanımlanan Liste: \",x)\n",
    "\n",
    "x[:len(x)//2],x[len(x)//2:]=x[len(x)//2:],x[:len(x)//2] #Swap işlemi\n",
    "\n",
    "print(\"Yeni Liste: \",x)"
   ]
  },
  {
   "cell_type": "markdown",
   "metadata": {},
   "source": [
    "Soru-2:\n",
    "\n",
    "Kullanıcı girişi olarak 0'dan 9'a kadar olan sayılar istenmekte, ve bu sayıya kadar olan çift sayıların ekrana bastırılması istenmektedir.\n",
    "\n",
    "Aralık dışındaki tam sayı girişi için döngüyü tekrar başlatmaktadır."
   ]
  },
  {
   "cell_type": "code",
   "execution_count": 4,
   "metadata": {
    "scrolled": true
   },
   "outputs": [
    {
     "name": "stdout",
     "output_type": "stream",
     "text": [
      "Tek basamaklı doğal sayı girin: 0\n",
      "0'dan itibaren olan çift sayılar:  [0]\n"
     ]
    }
   ],
   "source": [
    "n=int(input(\"Tek basamaklı doğal sayı girin: \"))\n",
    "\n",
    "while n<0 or n>9:\n",
    "    n=int(input(\"Geçersiz Değer. Tek basamaklı doğal sayı girin: \")) #Olası sınır değeri dışındaki girişlerin önüne geçmek için kullanılan ifade\n",
    "\n",
    "print(\"0'dan itibaren olan çift sayılar: \",list(range(0,n+1,2)))"
   ]
  },
  {
   "cell_type": "code",
   "execution_count": null,
   "metadata": {},
   "outputs": [],
   "source": []
  }
 ],
 "metadata": {
  "kernelspec": {
   "display_name": "Python 3",
   "language": "python",
   "name": "python3"
  },
  "language_info": {
   "codemirror_mode": {
    "name": "ipython",
    "version": 3
   },
   "file_extension": ".py",
   "mimetype": "text/x-python",
   "name": "python",
   "nbconvert_exporter": "python",
   "pygments_lexer": "ipython3",
   "version": "3.8.3"
  }
 },
 "nbformat": 4,
 "nbformat_minor": 4
}
