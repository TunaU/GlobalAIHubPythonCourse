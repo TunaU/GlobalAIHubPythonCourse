{
 "cells": [
  {
   "cell_type": "code",
   "execution_count": null,
   "metadata": {},
   "outputs": [],
   "source": [
    "print(\"Bilgi Yarışmasına hoşgeldiniz. Sorular \\nbüyük-küçük harf uyumu ve boşluklara duyarlıdır.\\nBaşarılar!\\n\")\n",
    "\n",
    "soru={0:[\"4!+(-5*3)=?:\",\"9\"],\n",
    "     1:[\"Osmanlı'nın ilk başkenti?:\",\"Bursa\"],\n",
    "     2:[\"Kuyucaklı Yusuf'un yazarı kimdir?:\",\"Sabahattin Ali\"],\n",
    "     3:[\"Su molekülünün formülü?(Büyük harfler ile):\",\"H2O\"],\n",
    "     4:[\"Türkiye Cumhuriyeti'nin ilk muhalefet partisinin ismi nedir?:\",\"Terakkiperver Cumhuriyet Fırkası\"],\n",
    "     5:[\"1965 Nobel Fizik Ödülüne sahip, Kuantum fiziği üzerine çalışmalar yapmış ünlü bilim insanının ismi nedir?:\",\"Richard Feynman\"],\n",
    "     6:[\"Türkiye'nin en kuzeyinde bulunan kara parçasına sahip olan ilimiz?:\",\"Sinop\"],\n",
    "     7:[\"Türkiye Dünya Kupası'na en son ne zaman katıldı?:\",\"2002\"],\n",
    "     8:[\"'Düşünüyorum, öyleyse varım'sözü kime aittir?:\",\"Descartes\"],\n",
    "     9:[\"Python'un kurucusunun tam ismi nedir?:\",\"Guido van Rossum\"]}\n",
    "\n",
    "\n",
    "point=0 #Başlangıç Puanı\n",
    "for i in range(10): #10 Soruluk yarışma\n",
    "    x=input(soru[i][0])\n",
    "    if x==soru[i][1]:\n",
    "        point+=10\n",
    "print(\"\\n\\nToplam Puanınız:\",point)\n",
    "if point<=50:\n",
    "    print(\"\\nBaşaramadınız...\")\n",
    "else:\n",
    "    print(\"\\nTebrikler, barajı aştınız!\")\n",
    "    "
   ]
  }
 ],
 "metadata": {
  "kernelspec": {
   "display_name": "Python 3",
   "language": "python",
   "name": "python3"
  },
  "language_info": {
   "codemirror_mode": {
    "name": "ipython",
    "version": 3
   },
   "file_extension": ".py",
   "mimetype": "text/x-python",
   "name": "python",
   "nbconvert_exporter": "python",
   "pygments_lexer": "ipython3",
   "version": "3.8.3"
  }
 },
 "nbformat": 4,
 "nbformat_minor": 4
}
